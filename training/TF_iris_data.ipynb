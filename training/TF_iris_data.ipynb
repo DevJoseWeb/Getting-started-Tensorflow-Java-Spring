{
 "cells": [
  {
   "cell_type": "code",
   "execution_count": 1,
   "metadata": {},
   "outputs": [],
   "source": [
    "import tensorflow as tf\n",
    "import pandas as pd\n",
    "import numpy as numpy\n",
    "from sklearn import datasets\n"
   ]
  },
  {
   "cell_type": "code",
   "execution_count": 2,
   "metadata": {},
   "outputs": [],
   "source": [
    "# load the data set\n",
    "iris = datasets.load_iris()\n",
    "iris_data_w_target = [];\n",
    "\n",
    "# prepare data\n",
    "\n",
    "# the data comes originally with all the examples ordered, so to get a meaningful test sample, we need to shuffle it\n",
    "\n",
    "# add the target to the data to be able to shuffle and partition it later\n",
    "for i in range(len(iris.data)):\n",
    "    value = numpy.append(iris.data[i], iris.target[i])\n",
    "    iris_data_w_target.append(value)\n",
    "\n",
    "#print(iris_data_w_target)\n",
    "feature_names = ['SepalLength', 'SepalWidth', 'PetalLength', 'PetalWidth', 'label']\n",
    "\n",
    "df = pd.DataFrame(data = iris_data_w_target, columns = feature_names )\n",
    "\n",
    "# shuffle our data\n",
    "df = df.sample(frac=1).reset_index(drop=True)\n"
   ]
  },
  {
   "cell_type": "code",
   "execution_count": 3,
   "metadata": {},
   "outputs": [],
   "source": [
    "# partition of our data\n",
    "# we reserve the 20% of the total records for testing\n",
    "test_len = (len(df) * 20)//100;\n",
    "training_df = df[test_len:]\n",
    "test_df = df[:test_len]\n",
    "\n",
    "#print(test_df)"
   ]
  },
  {
   "cell_type": "code",
   "execution_count": 8,
   "metadata": {},
   "outputs": [
    {
     "name": "stdout",
     "output_type": "stream",
     "text": [
      "INFO:tensorflow:Using default config.\n",
      "WARNING:tensorflow:Using temporary folder as model directory: C:\\Users\\_domine3\\AppData\\Local\\Temp\\tmp5gjzllj9\n",
      "INFO:tensorflow:Using config: {'_service': None, '_save_checkpoints_steps': None, '_save_summary_steps': 100, '_save_checkpoints_secs': 600, '_global_id_in_cluster': 0, '_num_ps_replicas': 0, '_model_dir': 'C:\\\\Users\\\\_domine3\\\\AppData\\\\Local\\\\Temp\\\\tmp5gjzllj9', '_cluster_spec': <tensorflow.python.training.server_lib.ClusterSpec object at 0x00000000121D6FD0>, '_master': '', '_train_distribute': None, '_keep_checkpoint_max': 5, '_task_id': 0, '_evaluation_master': '', '_is_chief': True, '_num_worker_replicas': 1, '_task_type': 'worker', '_tf_random_seed': None, '_log_step_count_steps': 100, '_session_config': None, '_keep_checkpoint_every_n_hours': 10000}\n",
      "INFO:tensorflow:Calling model_fn.\n",
      "INFO:tensorflow:Done calling model_fn.\n",
      "INFO:tensorflow:Create CheckpointSaverHook.\n",
      "INFO:tensorflow:Graph was finalized.\n",
      "INFO:tensorflow:Running local_init_op.\n",
      "INFO:tensorflow:Done running local_init_op.\n",
      "INFO:tensorflow:Saving checkpoints for 1 into C:\\Users\\_domine3\\AppData\\Local\\Temp\\tmp5gjzllj9\\model.ckpt.\n",
      "INFO:tensorflow:step = 1, loss = 178.83276\n",
      "INFO:tensorflow:global_step/sec: 355.872\n",
      "INFO:tensorflow:step = 101, loss = 50.766594 (0.283 sec)\n",
      "INFO:tensorflow:global_step/sec: 465.116\n",
      "INFO:tensorflow:step = 201, loss = 38.76278 (0.217 sec)\n",
      "INFO:tensorflow:global_step/sec: 598.802\n",
      "INFO:tensorflow:step = 301, loss = 38.14064 (0.166 sec)\n",
      "INFO:tensorflow:global_step/sec: 787.402\n",
      "INFO:tensorflow:step = 401, loss = 27.629398 (0.126 sec)\n",
      "INFO:tensorflow:global_step/sec: 684.931\n",
      "INFO:tensorflow:step = 501, loss = 21.948235 (0.145 sec)\n",
      "INFO:tensorflow:global_step/sec: 746.27\n",
      "INFO:tensorflow:step = 601, loss = 18.859213 (0.134 sec)\n",
      "INFO:tensorflow:global_step/sec: 781.25\n",
      "INFO:tensorflow:step = 701, loss = 17.552008 (0.130 sec)\n",
      "INFO:tensorflow:global_step/sec: 699.3\n",
      "INFO:tensorflow:step = 801, loss = 17.452543 (0.142 sec)\n",
      "INFO:tensorflow:global_step/sec: 662.252\n",
      "INFO:tensorflow:step = 901, loss = 14.069624 (0.151 sec)\n",
      "INFO:tensorflow:global_step/sec: 588.236\n",
      "INFO:tensorflow:step = 1001, loss = 10.818205 (0.170 sec)\n",
      "INFO:tensorflow:global_step/sec: 531.915\n",
      "INFO:tensorflow:step = 1101, loss = 11.348089 (0.188 sec)\n",
      "INFO:tensorflow:global_step/sec: 531.914\n",
      "INFO:tensorflow:step = 1201, loss = 8.7805 (0.187 sec)\n",
      "INFO:tensorflow:global_step/sec: 617.284\n",
      "INFO:tensorflow:step = 1301, loss = 11.538337 (0.163 sec)\n",
      "INFO:tensorflow:global_step/sec: 740.741\n",
      "INFO:tensorflow:step = 1401, loss = 9.091427 (0.136 sec)\n",
      "INFO:tensorflow:global_step/sec: 684.932\n",
      "INFO:tensorflow:step = 1501, loss = 8.768559 (0.144 sec)\n",
      "INFO:tensorflow:global_step/sec: 746.268\n",
      "INFO:tensorflow:step = 1601, loss = 6.0192947 (0.136 sec)\n",
      "INFO:tensorflow:global_step/sec: 751.88\n",
      "INFO:tensorflow:step = 1701, loss = 7.4447827 (0.131 sec)\n",
      "INFO:tensorflow:global_step/sec: 763.359\n",
      "INFO:tensorflow:step = 1801, loss = 8.151995 (0.133 sec)\n",
      "INFO:tensorflow:global_step/sec: 763.359\n",
      "INFO:tensorflow:step = 1901, loss = 9.348286 (0.131 sec)\n",
      "INFO:tensorflow:global_step/sec: 746.268\n",
      "INFO:tensorflow:step = 2001, loss = 7.4939833 (0.134 sec)\n",
      "INFO:tensorflow:global_step/sec: 675.676\n",
      "INFO:tensorflow:step = 2101, loss = 7.463635 (0.146 sec)\n",
      "INFO:tensorflow:global_step/sec: 675.676\n",
      "INFO:tensorflow:step = 2201, loss = 12.539911 (0.150 sec)\n",
      "INFO:tensorflow:global_step/sec: 591.716\n",
      "INFO:tensorflow:step = 2301, loss = 8.875696 (0.169 sec)\n",
      "INFO:tensorflow:global_step/sec: 403.226\n",
      "INFO:tensorflow:step = 2401, loss = 8.91069 (0.248 sec)\n",
      "INFO:tensorflow:global_step/sec: 462.963\n",
      "INFO:tensorflow:step = 2501, loss = 7.8862514 (0.217 sec)\n",
      "INFO:tensorflow:global_step/sec: 520.833\n",
      "INFO:tensorflow:step = 2601, loss = 8.091661 (0.197 sec)\n",
      "INFO:tensorflow:global_step/sec: 349.65\n",
      "INFO:tensorflow:step = 2701, loss = 8.210195 (0.279 sec)\n",
      "INFO:tensorflow:global_step/sec: 606.061\n",
      "INFO:tensorflow:step = 2801, loss = 6.482642 (0.166 sec)\n",
      "INFO:tensorflow:global_step/sec: 628.931\n",
      "INFO:tensorflow:step = 2901, loss = 7.704844 (0.158 sec)\n",
      "INFO:tensorflow:global_step/sec: 671.141\n",
      "INFO:tensorflow:step = 3001, loss = 6.01427 (0.148 sec)\n",
      "INFO:tensorflow:global_step/sec: 636.942\n",
      "INFO:tensorflow:step = 3101, loss = 14.407869 (0.158 sec)\n",
      "INFO:tensorflow:global_step/sec: 555.555\n",
      "INFO:tensorflow:step = 3201, loss = 7.5738716 (0.180 sec)\n",
      "INFO:tensorflow:global_step/sec: 490.196\n",
      "INFO:tensorflow:step = 3301, loss = 8.719381 (0.205 sec)\n",
      "INFO:tensorflow:global_step/sec: 423.729\n",
      "INFO:tensorflow:step = 3401, loss = 7.8427753 (0.239 sec)\n",
      "INFO:tensorflow:global_step/sec: 438.597\n",
      "INFO:tensorflow:step = 3501, loss = 7.2852764 (0.225 sec)\n",
      "INFO:tensorflow:global_step/sec: 317.46\n",
      "INFO:tensorflow:step = 3601, loss = 4.781227 (0.316 sec)\n",
      "INFO:tensorflow:global_step/sec: 398.406\n",
      "INFO:tensorflow:step = 3701, loss = 8.439494 (0.249 sec)\n",
      "INFO:tensorflow:global_step/sec: 395.257\n",
      "INFO:tensorflow:step = 3801, loss = 4.523081 (0.255 sec)\n",
      "INFO:tensorflow:global_step/sec: 598.802\n",
      "INFO:tensorflow:step = 3901, loss = 7.856287 (0.165 sec)\n",
      "INFO:tensorflow:Saving checkpoints for 4000 into C:\\Users\\_domine3\\AppData\\Local\\Temp\\tmp5gjzllj9\\model.ckpt.\n",
      "INFO:tensorflow:Loss for final step: 8.857825.\n"
     ]
    },
    {
     "data": {
      "text/plain": [
       "<tensorflow.python.estimator.canned.dnn.DNNClassifier at 0x16055e48>"
      ]
     },
     "execution_count": 8,
     "metadata": {},
     "output_type": "execute_result"
    }
   ],
   "source": [
    "# train the classifier\n",
    "\n",
    "my_feature_columns = [\n",
    "    tf.contrib.layers.real_valued_column('SepalLength', dimension=1, dtype=tf.float32),\n",
    "    tf.contrib.layers.real_valued_column('SepalWidth', dimension=1, dtype=tf.float32),\n",
    "    tf.contrib.layers.real_valued_column('PetalLength', dimension=1, dtype=tf.float32),\n",
    "    tf.contrib.layers.real_valued_column('PetalWidth', dimension=1, dtype=tf.float32)\n",
    "]\n",
    "\n",
    "\n",
    "# format data as required by the tensorflow framework\n",
    "x = {\n",
    "    'SepalLength': numpy.array(training_df['SepalLength']),\n",
    "    'SepalWidth' : numpy.array(training_df['SepalWidth']),\n",
    "    'PetalLength': numpy.array(training_df['PetalLength']),\n",
    "    'PetalWidth' : numpy.array(training_df['PetalWidth'])\n",
    "}\n",
    "\n",
    "#neural network\n",
    "classifier = tf.estimator.DNNClassifier(\n",
    "       feature_columns=my_feature_columns,\n",
    "       hidden_units=[5, 5],\n",
    "       n_classes=3)\n",
    "\n",
    "\n",
    "# Define the training inputs\n",
    "train_input_fn = tf.estimator.inputs.numpy_input_fn(\n",
    "    x=x,\n",
    "    y=numpy.array(training_df['label']).astype(int),\n",
    "    num_epochs=None,\n",
    "    shuffle=True)\n",
    "\n",
    "# Train model.\n",
    "classifier.train(input_fn=train_input_fn, steps=4000)"
   ]
  },
  {
   "cell_type": "code",
   "execution_count": 9,
   "metadata": {},
   "outputs": [
    {
     "name": "stdout",
     "output_type": "stream",
     "text": [
      "INFO:tensorflow:Calling model_fn.\n",
      "INFO:tensorflow:Done calling model_fn.\n",
      "INFO:tensorflow:Starting evaluation at 2018-06-18-15:45:46\n",
      "INFO:tensorflow:Graph was finalized.\n",
      "INFO:tensorflow:Restoring parameters from C:\\Users\\_domine3\\AppData\\Local\\Temp\\tmp5gjzllj9\\model.ckpt-4000\n",
      "INFO:tensorflow:Running local_init_op.\n",
      "INFO:tensorflow:Done running local_init_op.\n",
      "INFO:tensorflow:Finished evaluation at 2018-06-18-15:45:46\n",
      "INFO:tensorflow:Saving dict for global step 4000: accuracy = 1.0, average_loss = 0.03394517, global_step = 4000, loss = 1.0183551\n",
      "Test Accuracy:  1.0\n"
     ]
    }
   ],
   "source": [
    "\n",
    "# test accuracy of the model\n",
    "# format data as required by the tensorflow framework\n",
    "x = {\n",
    "    'SepalLength': numpy.array(test_df['SepalLength']),\n",
    "    'SepalWidth' : numpy.array(test_df['SepalWidth']),\n",
    "    'PetalLength': numpy.array(test_df['PetalLength']),\n",
    "    'PetalWidth' : numpy.array(test_df['PetalWidth'])\n",
    "}\n",
    "\n",
    "# Define the training inputs\n",
    "test_input_fn = tf.estimator.inputs.numpy_input_fn(\n",
    "    x=x,\n",
    "    y=numpy.array(test_df['label']).astype(int),\n",
    "    num_epochs=1,\n",
    "    shuffle=False)\n",
    "\n",
    "# Evaluate accuracy.\n",
    "accuracy_score = classifier.evaluate(input_fn=test_input_fn)[\"accuracy\"]\n",
    "\n",
    "print(\"Test Accuracy: \", accuracy_score)\n"
   ]
  },
  {
   "cell_type": "code",
   "execution_count": 10,
   "metadata": {},
   "outputs": [
    {
     "name": "stdout",
     "output_type": "stream",
     "text": [
      "INFO:tensorflow:Calling model_fn.\n",
      "INFO:tensorflow:Done calling model_fn.\n",
      "INFO:tensorflow:Graph was finalized.\n",
      "INFO:tensorflow:Restoring parameters from C:\\Users\\_domine3\\AppData\\Local\\Temp\\tmp5gjzllj9\\model.ckpt-4000\n",
      "INFO:tensorflow:Running local_init_op.\n",
      "INFO:tensorflow:Done running local_init_op.\n",
      "\n",
      "Prediction is \"0\" (certainity 100.0%), expected \"0\"\n",
      "\n",
      "Prediction is \"1\" (certainity 98.0%), expected \"1\"\n",
      "\n",
      "Prediction is \"2\" (certainity 99.8%), expected \"2\"\n"
     ]
    }
   ],
   "source": [
    "# We do some more manual testing\n",
    "# format data as required by the tensorflow framework\n",
    "x = {\n",
    "    'SepalLength': numpy.array([5.0, 6.7, 7.4]),\n",
    "    'SepalWidth' : numpy.array([3.5, 3.1, 2.8]),\n",
    "    'PetalLength': numpy.array([1.3, 4.4, 6.1]),\n",
    "    'PetalWidth' : numpy.array([0.3, 1.4, 1.9])\n",
    "}\n",
    "\n",
    "expected = numpy.array([0, 1, 2])\n",
    "\n",
    "# Define the training inputs\n",
    "predict_input_fn = tf.estimator.inputs.numpy_input_fn(\n",
    "    x=x,\n",
    "    num_epochs=1,\n",
    "    shuffle=False)\n",
    "\n",
    "predictions = classifier.predict(input_fn=predict_input_fn)\n",
    "\n",
    "for pred_dict, expec in zip(predictions, expected):\n",
    "    class_id = pred_dict['class_ids'][0]\n",
    "    probability = pred_dict['probabilities'][class_id]\n",
    "\n",
    "    print('\\nPrediction is \"{}\" (certainity {:.1f}%), expected \"{}\"'.format(class_id, 100 * probability, expec))\n",
    "    \n"
   ]
  },
  {
   "cell_type": "code",
   "execution_count": 11,
   "metadata": {},
   "outputs": [
    {
     "name": "stdout",
     "output_type": "stream",
     "text": [
      "INFO:tensorflow:Calling model_fn.\n",
      "INFO:tensorflow:Done calling model_fn.\n",
      "INFO:tensorflow:Signatures INCLUDED in export for Classify: ['serving_default', 'classification']\n",
      "INFO:tensorflow:Signatures INCLUDED in export for Regress: None\n",
      "INFO:tensorflow:Signatures INCLUDED in export for Predict: ['predict']\n",
      "INFO:tensorflow:Restoring parameters from C:\\Users\\_domine3\\AppData\\Local\\Temp\\tmp5gjzllj9\\model.ckpt-4000\n",
      "INFO:tensorflow:Assets added to graph.\n",
      "INFO:tensorflow:No assets to write.\n",
      "INFO:tensorflow:SavedModel written to: b\"stored_model\\\\temp-b'1529337262'\\\\saved_model.pbtxt\"\n"
     ]
    },
    {
     "data": {
      "text/plain": [
       "b'stored_model\\\\1529337262'"
      ]
     },
     "execution_count": 11,
     "metadata": {},
     "output_type": "execute_result"
    }
   ],
   "source": [
    "# export the model\n",
    "\n",
    "def serving_input_receiver_fn():\n",
    "    serialized_tf_example = tf.placeholder(dtype=tf.string, shape=[None], name='input_tensors')\n",
    "    receiver_tensors      = {'predictor_inputs': serialized_tf_example}\n",
    "    feature_spec          = {'SepalLength': tf.FixedLenFeature([25],tf.float32),\n",
    "                            'SepalWidth': tf.FixedLenFeature([25],tf.float32),\n",
    "                            'PetalLength': tf.FixedLenFeature([25],tf.float32),\n",
    "                            'PetalWidth': tf.FixedLenFeature([25],tf.float32)}\n",
    "    features              = tf.parse_example(serialized_tf_example, feature_spec)\n",
    "    return tf.estimator.export.ServingInputReceiver(features, receiver_tensors)\n",
    "\n",
    "\n",
    "classifier.export_savedmodel(export_dir_base=\"stored_model\", serving_input_receiver_fn  = serving_input_receiver_fn,as_text=True)\n",
    "\n"
   ]
  },
  {
   "cell_type": "code",
   "execution_count": null,
   "metadata": {},
   "outputs": [],
   "source": []
  }
 ],
 "metadata": {
  "kernelspec": {
   "display_name": "Python 3",
   "language": "python",
   "name": "python3"
  },
  "language_info": {
   "codemirror_mode": {
    "name": "ipython",
    "version": 3
   },
   "file_extension": ".py",
   "mimetype": "text/x-python",
   "name": "python",
   "nbconvert_exporter": "python",
   "pygments_lexer": "ipython3",
   "version": "3.5.5"
  }
 },
 "nbformat": 4,
 "nbformat_minor": 2
}
