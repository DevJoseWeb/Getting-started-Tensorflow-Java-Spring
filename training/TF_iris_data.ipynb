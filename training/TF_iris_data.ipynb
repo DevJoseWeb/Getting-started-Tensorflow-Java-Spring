{
 "cells": [
  {
   "cell_type": "code",
   "execution_count": 15,
   "metadata": {},
   "outputs": [],
   "source": [
    "import tensorflow as tf\n",
    "import pandas as pd\n",
    "import numpy as numpy\n",
    "from sklearn import datasets\n",
    "\n",
    "FEATURE_SEPAL_LENGTH = 'SepalLength'\n",
    "FEATURE_SEPAL_WIDTH = 'SepalWidth'\n",
    "FEATURE_PETAL_LENGTH = 'PetalLength'\n",
    "FEATURE_PETAL_WIDTH = 'PetalWidth'\n",
    "LABEL = 'label'"
   ]
  },
  {
   "cell_type": "code",
   "execution_count": 16,
   "metadata": {},
   "outputs": [],
   "source": [
    "# load the data set\n",
    "iris = datasets.load_iris()\n",
    "iris_data_w_target = [];\n",
    "\n",
    "# prepare data\n",
    "\n",
    "# the data comes originally with all the examples ordered, so to get a meaningful test sample, we need to shuffle it\n",
    "\n",
    "# add the target to the data to be able to shuffle and partition it later\n",
    "for i in range(len(iris.data)):\n",
    "    value = numpy.append(iris.data[i], iris.target[i])\n",
    "    iris_data_w_target.append(value)\n",
    "\n",
    "#print(iris_data_w_target)\n",
    "columns_names = [FEATURE_SEPAL_LENGTH, FEATURE_SEPAL_WIDTH, FEATURE_PETAL_LENGTH, FEATURE_PETAL_WIDTH, LABEL]\n",
    "\n",
    "df = pd.DataFrame(data = iris_data_w_target, columns = columns_names )\n",
    "\n",
    "# shuffle our data\n",
    "df = df.sample(frac=1).reset_index(drop=True)\n"
   ]
  },
  {
   "cell_type": "code",
   "execution_count": 17,
   "metadata": {},
   "outputs": [],
   "source": [
    "# partition of our data\n",
    "# we reserve the 20% of the total records for testing\n",
    "test_len = (len(df) * 20)//100;\n",
    "training_df = df[test_len:]\n",
    "test_df = df[:test_len]\n",
    "\n",
    "#print(test_df)"
   ]
  },
  {
   "cell_type": "code",
   "execution_count": 18,
   "metadata": {},
   "outputs": [
    {
     "name": "stdout",
     "output_type": "stream",
     "text": [
      "INFO:tensorflow:Using default config.\n",
      "WARNING:tensorflow:Using temporary folder as model directory: C:\\Users\\_domine3\\AppData\\Local\\Temp\\tmpb6hzwa31\n",
      "INFO:tensorflow:Using config: {'_service': None, '_global_id_in_cluster': 0, '_evaluation_master': '', '_cluster_spec': <tensorflow.python.training.server_lib.ClusterSpec object at 0x00000000151BF588>, '_save_checkpoints_secs': 600, '_is_chief': True, '_train_distribute': None, '_log_step_count_steps': 100, '_model_dir': 'C:\\\\Users\\\\_domine3\\\\AppData\\\\Local\\\\Temp\\\\tmpb6hzwa31', '_task_id': 0, '_tf_random_seed': None, '_num_ps_replicas': 0, '_session_config': None, '_save_summary_steps': 100, '_keep_checkpoint_every_n_hours': 10000, '_task_type': 'worker', '_save_checkpoints_steps': None, '_num_worker_replicas': 1, '_master': '', '_keep_checkpoint_max': 5}\n",
      "INFO:tensorflow:Calling model_fn.\n",
      "INFO:tensorflow:Done calling model_fn.\n",
      "INFO:tensorflow:Create CheckpointSaverHook.\n",
      "INFO:tensorflow:Graph was finalized.\n",
      "INFO:tensorflow:Running local_init_op.\n",
      "INFO:tensorflow:Done running local_init_op.\n",
      "INFO:tensorflow:Saving checkpoints for 1 into C:\\Users\\_domine3\\AppData\\Local\\Temp\\tmpb6hzwa31\\model.ckpt.\n",
      "INFO:tensorflow:loss = 136.66997, step = 1\n",
      "INFO:tensorflow:global_step/sec: 371.747\n",
      "INFO:tensorflow:loss = 15.361781, step = 101 (0.272 sec)\n",
      "INFO:tensorflow:global_step/sec: 352.113\n",
      "INFO:tensorflow:loss = 9.144589, step = 201 (0.284 sec)\n",
      "INFO:tensorflow:global_step/sec: 392.157\n",
      "INFO:tensorflow:loss = 13.232415, step = 301 (0.262 sec)\n",
      "INFO:tensorflow:global_step/sec: 338.983\n",
      "INFO:tensorflow:loss = 7.504566, step = 401 (0.288 sec)\n",
      "INFO:tensorflow:global_step/sec: 423.729\n",
      "INFO:tensorflow:loss = 4.662715, step = 501 (0.236 sec)\n",
      "INFO:tensorflow:global_step/sec: 497.512\n",
      "INFO:tensorflow:loss = 9.8149185, step = 601 (0.201 sec)\n",
      "INFO:tensorflow:global_step/sec: 456.621\n",
      "INFO:tensorflow:loss = 10.880371, step = 701 (0.217 sec)\n",
      "INFO:tensorflow:global_step/sec: 689.655\n",
      "INFO:tensorflow:loss = 4.2587667, step = 801 (0.146 sec)\n",
      "INFO:tensorflow:global_step/sec: 751.88\n",
      "INFO:tensorflow:loss = 7.2128086, step = 901 (0.133 sec)\n",
      "INFO:tensorflow:global_step/sec: 523.56\n",
      "INFO:tensorflow:loss = 7.1492376, step = 1001 (0.193 sec)\n",
      "INFO:tensorflow:global_step/sec: 512.82\n",
      "INFO:tensorflow:loss = 4.120738, step = 1101 (0.193 sec)\n",
      "INFO:tensorflow:global_step/sec: 273.973\n",
      "INFO:tensorflow:loss = 10.418373, step = 1201 (0.364 sec)\n",
      "INFO:tensorflow:global_step/sec: 645.16\n",
      "INFO:tensorflow:loss = 6.1869593, step = 1301 (0.154 sec)\n",
      "INFO:tensorflow:global_step/sec: 641.026\n",
      "INFO:tensorflow:loss = 10.269049, step = 1401 (0.158 sec)\n",
      "INFO:tensorflow:global_step/sec: 555.555\n",
      "INFO:tensorflow:loss = 3.2355201, step = 1501 (0.179 sec)\n",
      "INFO:tensorflow:global_step/sec: 564.972\n",
      "INFO:tensorflow:loss = 4.5906897, step = 1601 (0.177 sec)\n",
      "INFO:tensorflow:global_step/sec: 531.915\n",
      "INFO:tensorflow:loss = 3.9744081, step = 1701 (0.189 sec)\n",
      "INFO:tensorflow:global_step/sec: 436.682\n",
      "INFO:tensorflow:loss = 6.638947, step = 1801 (0.228 sec)\n",
      "INFO:tensorflow:global_step/sec: 546.448\n",
      "INFO:tensorflow:loss = 7.263896, step = 1901 (0.184 sec)\n",
      "INFO:tensorflow:global_step/sec: 628.931\n",
      "INFO:tensorflow:loss = 7.088147, step = 2001 (0.158 sec)\n",
      "INFO:tensorflow:global_step/sec: 719.424\n",
      "INFO:tensorflow:loss = 10.935221, step = 2101 (0.139 sec)\n",
      "INFO:tensorflow:global_step/sec: 781.251\n",
      "INFO:tensorflow:loss = 5.3824477, step = 2201 (0.128 sec)\n",
      "INFO:tensorflow:global_step/sec: 653.594\n",
      "INFO:tensorflow:loss = 5.8881636, step = 2301 (0.153 sec)\n",
      "INFO:tensorflow:global_step/sec: 751.88\n",
      "INFO:tensorflow:loss = 9.311447, step = 2401 (0.133 sec)\n",
      "INFO:tensorflow:global_step/sec: 735.293\n",
      "INFO:tensorflow:loss = 12.075359, step = 2501 (0.136 sec)\n",
      "INFO:tensorflow:global_step/sec: 552.486\n",
      "INFO:tensorflow:loss = 8.28843, step = 2601 (0.184 sec)\n",
      "INFO:tensorflow:global_step/sec: 526.316\n",
      "INFO:tensorflow:loss = 10.379155, step = 2701 (0.187 sec)\n",
      "INFO:tensorflow:global_step/sec: 653.595\n",
      "INFO:tensorflow:loss = 11.831385, step = 2801 (0.153 sec)\n",
      "INFO:tensorflow:global_step/sec: 662.252\n",
      "INFO:tensorflow:loss = 3.4080129, step = 2901 (0.151 sec)\n",
      "INFO:tensorflow:global_step/sec: 471.698\n",
      "INFO:tensorflow:loss = 13.160145, step = 3001 (0.212 sec)\n",
      "INFO:tensorflow:global_step/sec: 704.224\n",
      "INFO:tensorflow:loss = 7.275687, step = 3101 (0.142 sec)\n",
      "INFO:tensorflow:global_step/sec: 714.286\n",
      "INFO:tensorflow:loss = 3.4372365, step = 3201 (0.139 sec)\n",
      "INFO:tensorflow:global_step/sec: 769.23\n",
      "INFO:tensorflow:loss = 8.052825, step = 3301 (0.130 sec)\n",
      "INFO:tensorflow:global_step/sec: 446.429\n",
      "INFO:tensorflow:loss = 4.193392, step = 3401 (0.228 sec)\n",
      "INFO:tensorflow:global_step/sec: 314.466\n",
      "INFO:tensorflow:loss = 7.6916795, step = 3501 (0.315 sec)\n",
      "INFO:tensorflow:global_step/sec: 434.783\n",
      "INFO:tensorflow:loss = 16.049503, step = 3601 (0.234 sec)\n",
      "INFO:tensorflow:global_step/sec: 369.003\n",
      "INFO:tensorflow:loss = 3.0362687, step = 3701 (0.267 sec)\n",
      "INFO:tensorflow:global_step/sec: 440.529\n",
      "INFO:tensorflow:loss = 2.8996487, step = 3801 (0.226 sec)\n",
      "INFO:tensorflow:global_step/sec: 492.611\n",
      "INFO:tensorflow:loss = 16.109325, step = 3901 (0.207 sec)\n",
      "INFO:tensorflow:Saving checkpoints for 4000 into C:\\Users\\_domine3\\AppData\\Local\\Temp\\tmpb6hzwa31\\model.ckpt.\n",
      "INFO:tensorflow:Loss for final step: 4.4069967.\n"
     ]
    },
    {
     "data": {
      "text/plain": [
       "<tensorflow.python.estimator.canned.dnn.DNNClassifier at 0x151bfac8>"
      ]
     },
     "execution_count": 18,
     "metadata": {},
     "output_type": "execute_result"
    }
   ],
   "source": [
    "# train the classifier\n",
    "\n",
    "iris_feature_columns = [\n",
    "    tf.contrib.layers.real_valued_column(FEATURE_SEPAL_LENGTH, dimension=1, dtype=tf.float32),\n",
    "    tf.contrib.layers.real_valued_column(FEATURE_SEPAL_WIDTH, dimension=1, dtype=tf.float32),\n",
    "    tf.contrib.layers.real_valued_column(FEATURE_PETAL_LENGTH, dimension=1, dtype=tf.float32),\n",
    "    tf.contrib.layers.real_valued_column(FEATURE_PETAL_WIDTH, dimension=1, dtype=tf.float32)\n",
    "]\n",
    "\n",
    "\n",
    "# format data as required by the tensorflow framework\n",
    "x = {\n",
    "    FEATURE_SEPAL_LENGTH : numpy.array(training_df[FEATURE_SEPAL_LENGTH]),\n",
    "    FEATURE_SEPAL_WIDTH  : numpy.array(training_df[FEATURE_SEPAL_WIDTH]),\n",
    "    FEATURE_PETAL_LENGTH : numpy.array(training_df[FEATURE_PETAL_LENGTH]),\n",
    "    FEATURE_PETAL_WIDTH  : numpy.array(training_df[FEATURE_PETAL_WIDTH])\n",
    "}\n",
    "\n",
    "#neural network\n",
    "classifier = tf.estimator.DNNClassifier(\n",
    "       feature_columns = iris_feature_columns,\n",
    "       hidden_units = [5, 5],\n",
    "       n_classes = 3)\n",
    "\n",
    "\n",
    "# Define the training inputs\n",
    "train_input_fn = tf.estimator.inputs.numpy_input_fn(\n",
    "    x = x,\n",
    "    y = numpy.array(training_df[LABEL]).astype(int),\n",
    "    num_epochs = None,\n",
    "    shuffle = True)\n",
    "\n",
    "# Train model.\n",
    "classifier.train(input_fn = train_input_fn, steps = 4000)"
   ]
  },
  {
   "cell_type": "code",
   "execution_count": 19,
   "metadata": {},
   "outputs": [
    {
     "name": "stdout",
     "output_type": "stream",
     "text": [
      "INFO:tensorflow:Calling model_fn.\n",
      "INFO:tensorflow:Done calling model_fn.\n",
      "INFO:tensorflow:Starting evaluation at 2018-06-25-09:18:24\n",
      "INFO:tensorflow:Graph was finalized.\n",
      "INFO:tensorflow:Restoring parameters from C:\\Users\\_domine3\\AppData\\Local\\Temp\\tmpb6hzwa31\\model.ckpt-4000\n",
      "INFO:tensorflow:Running local_init_op.\n",
      "INFO:tensorflow:Done running local_init_op.\n",
      "INFO:tensorflow:Finished evaluation at 2018-06-25-09:18:24\n",
      "INFO:tensorflow:Saving dict for global step 4000: accuracy = 1.0, average_loss = 0.0030090942, global_step = 4000, loss = 0.09027282\n",
      "Test Accuracy:  1.0\n"
     ]
    }
   ],
   "source": [
    "\n",
    "# test accuracy of the model\n",
    "# format data as required by the tensorflow framework\n",
    "x = {\n",
    "    FEATURE_SEPAL_LENGTH : numpy.array(test_df[FEATURE_SEPAL_LENGTH]),\n",
    "    FEATURE_SEPAL_WIDTH  : numpy.array(test_df[FEATURE_SEPAL_WIDTH]),\n",
    "    FEATURE_PETAL_LENGTH : numpy.array(test_df[FEATURE_PETAL_LENGTH]),\n",
    "    FEATURE_PETAL_WIDTH  : numpy.array(test_df[FEATURE_PETAL_WIDTH])\n",
    "}\n",
    "\n",
    "# Define the training inputs\n",
    "test_input_fn = tf.estimator.inputs.numpy_input_fn(\n",
    "    x = x,\n",
    "    y = numpy.array(test_df[LABEL]).astype(int),\n",
    "    num_epochs = 1,\n",
    "    shuffle = False)\n",
    "\n",
    "# Evaluate accuracy.\n",
    "accuracy_score = classifier.evaluate(input_fn=test_input_fn)[\"accuracy\"]\n",
    "\n",
    "print(\"Test Accuracy: \", accuracy_score)\n"
   ]
  },
  {
   "cell_type": "code",
   "execution_count": 20,
   "metadata": {},
   "outputs": [
    {
     "name": "stdout",
     "output_type": "stream",
     "text": [
      "INFO:tensorflow:Calling model_fn.\n",
      "INFO:tensorflow:Done calling model_fn.\n",
      "INFO:tensorflow:Graph was finalized.\n",
      "INFO:tensorflow:Restoring parameters from C:\\Users\\_domine3\\AppData\\Local\\Temp\\tmpb6hzwa31\\model.ckpt-4000\n",
      "INFO:tensorflow:Running local_init_op.\n",
      "INFO:tensorflow:Done running local_init_op.\n",
      "\n",
      "Prediction is \"0\" (certainity 100.0%), expected \"0\"\n",
      "\n",
      "Prediction is \"1\" (certainity 100.0%), expected \"1\"\n",
      "\n",
      "Prediction is \"2\" (certainity 99.9%), expected \"2\"\n"
     ]
    }
   ],
   "source": [
    "# We do some more manual testing\n",
    "# format data as required by the tensorflow framework\n",
    "x = {\n",
    "    FEATURE_SEPAL_LENGTH : numpy.array([5.0, 6.7, 7.4]),\n",
    "    FEATURE_SEPAL_WIDTH  : numpy.array([3.5, 3.1, 2.8]),\n",
    "    FEATURE_PETAL_LENGTH : numpy.array([1.3, 4.4, 6.1]),\n",
    "    FEATURE_PETAL_WIDTH  : numpy.array([0.3, 1.4, 1.9])\n",
    "}\n",
    "\n",
    "expected = numpy.array([0, 1, 2])\n",
    "\n",
    "# Define the training inputs\n",
    "predict_input_fn = tf.estimator.inputs.numpy_input_fn(\n",
    "    x = x,\n",
    "    num_epochs = 1,\n",
    "    shuffle = False)\n",
    "\n",
    "predictions = classifier.predict(input_fn = predict_input_fn)\n",
    "\n",
    "for pred_dict, expec in zip(predictions, expected):\n",
    "    class_id = pred_dict['class_ids'][0]\n",
    "    probability = pred_dict['probabilities'][class_id]\n",
    "\n",
    "    print('\\nPrediction is \"{}\" (certainity {:.1f}%), expected \"{}\"'.format(class_id, 100 * probability, expec))\n",
    "    \n"
   ]
  },
  {
   "cell_type": "code",
   "execution_count": 21,
   "metadata": {},
   "outputs": [
    {
     "name": "stdout",
     "output_type": "stream",
     "text": [
      "INFO:tensorflow:Calling model_fn.\n",
      "INFO:tensorflow:Done calling model_fn.\n",
      "INFO:tensorflow:Signatures INCLUDED in export for Regress: None\n",
      "INFO:tensorflow:Signatures INCLUDED in export for Classify: ['classification', 'serving_default']\n",
      "INFO:tensorflow:Signatures INCLUDED in export for Predict: ['predict']\n",
      "INFO:tensorflow:Restoring parameters from C:\\Users\\_domine3\\AppData\\Local\\Temp\\tmpb6hzwa31\\model.ckpt-4000\n",
      "INFO:tensorflow:Assets added to graph.\n",
      "INFO:tensorflow:No assets to write.\n",
      "INFO:tensorflow:SavedModel written to: b\"stored_model\\\\temp-b'1529918323'\\\\saved_model.pbtxt\"\n"
     ]
    },
    {
     "data": {
      "text/plain": [
       "b'stored_model\\\\1529918323'"
      ]
     },
     "execution_count": 21,
     "metadata": {},
     "output_type": "execute_result"
    }
   ],
   "source": [
    "# export the model\n",
    "\n",
    "def serving_input_receiver_fn():\n",
    "    serialized_tf_example = tf.placeholder(dtype = tf.string, shape = [None], name = 'input_tensors')\n",
    "    receiver_tensors      = {'predictor_inputs' : serialized_tf_example}\n",
    "    feature_spec          = {FEATURE_SEPAL_LENGTH : tf.FixedLenFeature([25], tf.float32),\n",
    "                             FEATURE_SEPAL_WIDTH  : tf.FixedLenFeature([25], tf.float32),\n",
    "                             FEATURE_PETAL_LENGTH : tf.FixedLenFeature([25], tf.float32),\n",
    "                             FEATURE_PETAL_WIDTH  : tf.FixedLenFeature([25], tf.float32)}\n",
    "    features              = tf.parse_example(serialized_tf_example, feature_spec)\n",
    "    return tf.estimator.export.ServingInputReceiver(features, receiver_tensors)\n",
    "\n",
    "\n",
    "classifier.export_savedmodel(export_dir_base = \"stored_model\", \n",
    "                             serving_input_receiver_fn = serving_input_receiver_fn,\n",
    "                             as_text = True)\n",
    "\n"
   ]
  },
  {
   "cell_type": "code",
   "execution_count": null,
   "metadata": {},
   "outputs": [],
   "source": []
  }
 ],
 "metadata": {
  "kernelspec": {
   "display_name": "Python 3",
   "language": "python",
   "name": "python3"
  },
  "language_info": {
   "codemirror_mode": {
    "name": "ipython",
    "version": 3
   },
   "file_extension": ".py",
   "mimetype": "text/x-python",
   "name": "python",
   "nbconvert_exporter": "python",
   "pygments_lexer": "ipython3",
   "version": "3.5.5"
  }
 },
 "nbformat": 4,
 "nbformat_minor": 2
}
