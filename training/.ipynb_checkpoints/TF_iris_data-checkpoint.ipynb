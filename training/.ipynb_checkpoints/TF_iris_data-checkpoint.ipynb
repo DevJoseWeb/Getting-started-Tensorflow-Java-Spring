{
 "cells": [
  {
   "cell_type": "code",
   "execution_count": 1,
   "metadata": {},
   "outputs": [],
   "source": [
    "import tensorflow as tf\n",
    "import pandas as pd\n",
    "import numpy as numpy\n",
    "from sklearn import datasets\n"
   ]
  },
  {
   "cell_type": "code",
   "execution_count": 2,
   "metadata": {},
   "outputs": [],
   "source": [
    "iris = datasets.load_iris()\n",
    "iris_data_w_target = [];\n",
    "# prepare data\n",
    "# the data comes originally with all the examples ordered, so to get a meaningful test sample, we need to shuffle it\n",
    "# add the target to the data to be able to shuffle and partion later\n",
    "for i in range(len(iris.data)):\n",
    "    value = numpy.append(iris.data[i], iris.target[i])\n",
    "    iris_data_w_target.append(value)\n",
    "\n",
    "#print(iris_data_w_target)\n",
    "feature_names = ['SepalLength', 'SepalWidth', 'PetalLength', 'PetalWidth', 'label']\n",
    "\n"
   ]
  },
  {
   "cell_type": "code",
   "execution_count": 3,
   "metadata": {},
   "outputs": [],
   "source": [
    "\n",
    "df = pd.DataFrame(data = iris_data_w_target, columns = feature_names )\n",
    "\n",
    "# shuffle our data\n",
    "df = df.sample(frac=1).reset_index(drop=True)\n",
    "\n",
    "# partition of our data\n",
    "# we reserve the 20% of the total records for testing\n",
    "test_len = (len(df) * 20)//100;\n",
    "training_df = df[test_len:]\n",
    "test_df = df[:test_len]\n",
    "\n",
    "\n",
    "#print(test_df)\n"
   ]
  },
  {
   "cell_type": "code",
   "execution_count": 14,
   "metadata": {},
   "outputs": [
    {
     "name": "stdout",
     "output_type": "stream",
     "text": [
      "INFO:tensorflow:Using default config.\n",
      "WARNING:tensorflow:Using temporary folder as model directory: C:\\Users\\_domine3\\AppData\\Local\\Temp\\tmpzxdkos1r\n",
      "INFO:tensorflow:Using config: {'_model_dir': 'C:\\\\Users\\\\_domine3\\\\AppData\\\\Local\\\\Temp\\\\tmpzxdkos1r', '_task_id': 0, '_service': None, '_log_step_count_steps': 100, '_is_chief': True, '_save_checkpoints_secs': 600, '_save_checkpoints_steps': None, '_master': '', '_cluster_spec': <tensorflow.python.training.server_lib.ClusterSpec object at 0x0000000015516EF0>, '_keep_checkpoint_max': 5, '_task_type': 'worker', '_tf_random_seed': None, '_num_ps_replicas': 0, '_save_summary_steps': 100, '_session_config': None, '_num_worker_replicas': 1, '_keep_checkpoint_every_n_hours': 10000, '_global_id_in_cluster': 0, '_train_distribute': None, '_evaluation_master': ''}\n",
      "INFO:tensorflow:Calling model_fn.\n",
      "INFO:tensorflow:Done calling model_fn.\n",
      "INFO:tensorflow:Create CheckpointSaverHook.\n",
      "INFO:tensorflow:Graph was finalized.\n",
      "INFO:tensorflow:Running local_init_op.\n",
      "INFO:tensorflow:Done running local_init_op.\n",
      "INFO:tensorflow:Saving checkpoints for 1 into C:\\Users\\_domine3\\AppData\\Local\\Temp\\tmpzxdkos1r\\model.ckpt.\n",
      "INFO:tensorflow:step = 1, loss = 190.88417\n",
      "INFO:tensorflow:global_step/sec: 263.852\n",
      "INFO:tensorflow:step = 101, loss = 55.85408 (0.382 sec)\n",
      "INFO:tensorflow:global_step/sec: 338.983\n",
      "INFO:tensorflow:step = 201, loss = 35.368332 (0.293 sec)\n",
      "INFO:tensorflow:global_step/sec: 487.805\n",
      "INFO:tensorflow:step = 301, loss = 24.38451 (0.209 sec)\n",
      "INFO:tensorflow:global_step/sec: 454.545\n",
      "INFO:tensorflow:step = 401, loss = 17.067802 (0.218 sec)\n",
      "INFO:tensorflow:global_step/sec: 515.464\n",
      "INFO:tensorflow:step = 501, loss = 14.248752 (0.195 sec)\n",
      "INFO:tensorflow:global_step/sec: 431.035\n",
      "INFO:tensorflow:step = 601, loss = 18.08295 (0.231 sec)\n",
      "INFO:tensorflow:global_step/sec: 346.021\n",
      "INFO:tensorflow:step = 701, loss = 12.133623 (0.290 sec)\n",
      "INFO:tensorflow:global_step/sec: 432.9\n",
      "INFO:tensorflow:step = 801, loss = 7.811717 (0.231 sec)\n",
      "INFO:tensorflow:global_step/sec: 462.963\n",
      "INFO:tensorflow:step = 901, loss = 9.953874 (0.214 sec)\n",
      "INFO:tensorflow:global_step/sec: 352.112\n",
      "INFO:tensorflow:step = 1001, loss = 8.488149 (0.284 sec)\n",
      "INFO:tensorflow:global_step/sec: 395.257\n",
      "INFO:tensorflow:step = 1101, loss = 8.727565 (0.257 sec)\n",
      "INFO:tensorflow:global_step/sec: 471.698\n",
      "INFO:tensorflow:step = 1201, loss = 7.3925934 (0.213 sec)\n",
      "INFO:tensorflow:global_step/sec: 423.729\n",
      "INFO:tensorflow:step = 1301, loss = 9.101347 (0.234 sec)\n",
      "INFO:tensorflow:global_step/sec: 364.964\n",
      "INFO:tensorflow:step = 1401, loss = 6.994589 (0.279 sec)\n",
      "INFO:tensorflow:global_step/sec: 343.643\n",
      "INFO:tensorflow:step = 1501, loss = 9.313086 (0.291 sec)\n",
      "INFO:tensorflow:global_step/sec: 381.679\n",
      "INFO:tensorflow:step = 1601, loss = 4.206627 (0.255 sec)\n",
      "INFO:tensorflow:global_step/sec: 361.011\n",
      "INFO:tensorflow:step = 1701, loss = 8.426775 (0.277 sec)\n",
      "INFO:tensorflow:global_step/sec: 400\n",
      "INFO:tensorflow:step = 1801, loss = 4.8145823 (0.251 sec)\n",
      "INFO:tensorflow:global_step/sec: 423.729\n",
      "INFO:tensorflow:step = 1901, loss = 9.08782 (0.237 sec)\n",
      "INFO:tensorflow:Saving checkpoints for 2000 into C:\\Users\\_domine3\\AppData\\Local\\Temp\\tmpzxdkos1r\\model.ckpt.\n",
      "INFO:tensorflow:Loss for final step: 7.243447.\n"
     ]
    },
    {
     "data": {
      "text/plain": [
       "<tensorflow.python.estimator.canned.dnn.DNNClassifier at 0x15516d68>"
      ]
     },
     "execution_count": 14,
     "metadata": {},
     "output_type": "execute_result"
    }
   ],
   "source": [
    "# train the classifier\n",
    "\n",
    "my_feature_columns = [\n",
    "    tf.contrib.layers.real_valued_column('SepalLength', dimension=1, dtype=tf.float32),\n",
    "    tf.contrib.layers.real_valued_column('SepalWidth', dimension=1, dtype=tf.float32),\n",
    "    tf.contrib.layers.real_valued_column('PetalLength', dimension=1, dtype=tf.float32),\n",
    "    tf.contrib.layers.real_valued_column('PetalWidth', dimension=1, dtype=tf.float32)\n",
    "]\n",
    "\n",
    "\n",
    "# format data as required by the tensorflow framework\n",
    "x = {\n",
    "    'SepalLength': numpy.array(training_df['SepalLength']),\n",
    "    'SepalWidth': numpy.array(training_df['SepalWidth']),\n",
    "    'PetalLength': numpy.array(training_df['PetalLength']),\n",
    "    'PetalWidth': numpy.array(training_df['PetalWidth'])\n",
    "}\n",
    "\n",
    "#neural network\n",
    "classifier = tf.estimator.DNNClassifier(\n",
    "       feature_columns=my_feature_columns,\n",
    "       hidden_units=[5, 5],\n",
    "       n_classes=3)\n",
    "\n",
    "\n",
    "# Define the training inputs\n",
    "train_input_fn = tf.estimator.inputs.numpy_input_fn(\n",
    "    x=x,\n",
    "    y=numpy.array(training_df['label']).astype(int),\n",
    "    num_epochs=None,\n",
    "    shuffle=True)\n",
    "\n",
    "# Train model.\n",
    "classifier.train(input_fn=train_input_fn, steps=2000)"
   ]
  },
  {
   "cell_type": "code",
   "execution_count": 13,
   "metadata": {},
   "outputs": [
    {
     "name": "stdout",
     "output_type": "stream",
     "text": [
      "INFO:tensorflow:Calling model_fn.\n",
      "INFO:tensorflow:Done calling model_fn.\n",
      "INFO:tensorflow:Starting evaluation at 2018-06-14-12:35:55\n",
      "INFO:tensorflow:Graph was finalized.\n",
      "INFO:tensorflow:Restoring parameters from C:\\Users\\_domine3\\AppData\\Local\\Temp\\tmptznge15x\\model.ckpt-5000\n",
      "INFO:tensorflow:Running local_init_op.\n",
      "INFO:tensorflow:Done running local_init_op.\n",
      "INFO:tensorflow:Finished evaluation at 2018-06-14-12:35:55\n",
      "INFO:tensorflow:Saving dict for global step 5000: accuracy = 0.96666664, average_loss = 0.057731166, global_step = 5000, loss = 1.731935\n",
      "Test Accuracy:  0.96666664\n"
     ]
    }
   ],
   "source": [
    "\n",
    "# test accuracy of the model\n",
    "# format data as required by the tensorflow framework\n",
    "x = {\n",
    "    'SepalLength': numpy.array(test_df['SepalLength']),\n",
    "    'SepalWidth': numpy.array(test_df['SepalWidth']),\n",
    "    'PetalLength': numpy.array(test_df['PetalLength']),\n",
    "    'PetalWidth': numpy.array(test_df['PetalWidth'])\n",
    "}\n",
    "\n",
    "# Define the training inputs\n",
    "test_input_fn = tf.estimator.inputs.numpy_input_fn(\n",
    "    x=x,\n",
    "    y=numpy.array(test_df['label']).astype(int),\n",
    "    num_epochs=1,\n",
    "    shuffle=False)\n",
    "\n",
    "# Evaluate accuracy.\n",
    "accuracy_score = classifier.evaluate(input_fn=test_input_fn)[\"accuracy\"]\n",
    "\n",
    "print(\"Test Accuracy: \", accuracy_score)\n"
   ]
  },
  {
   "cell_type": "code",
   "execution_count": 15,
   "metadata": {},
   "outputs": [
    {
     "name": "stdout",
     "output_type": "stream",
     "text": [
      "INFO:tensorflow:Calling model_fn.\n",
      "INFO:tensorflow:Done calling model_fn.\n",
      "INFO:tensorflow:Graph was finalized.\n",
      "INFO:tensorflow:Restoring parameters from C:\\Users\\_domine3\\AppData\\Local\\Temp\\tmpzxdkos1r\\model.ckpt-2000\n",
      "INFO:tensorflow:Running local_init_op.\n",
      "INFO:tensorflow:Done running local_init_op.\n",
      "\n",
      "Prediction is \"0\" (certainity 99.3%), expected \"0\"\n",
      "\n",
      "Prediction is \"1\" (certainity 99.8%), expected \"1\"\n",
      "\n",
      "Prediction is \"2\" (certainity 99.7%), expected \"2\"\n"
     ]
    }
   ],
   "source": [
    "# We do some more manual testing\n",
    "# format data as required by the tensorflow framework\n",
    "x = {\n",
    "    'SepalLength': numpy.array([5.0, 6.7, 7.4]),\n",
    "    'SepalWidth':  numpy.array([3.5, 3.1, 2.8]),\n",
    "    'PetalLength': numpy.array([1.3, 4.4, 6.1]),\n",
    "    'PetalWidth':  numpy.array([0.3, 1.4, 1.9])\n",
    "}\n",
    "\n",
    "expected = numpy.array([0, 1, 2])\n",
    "\n",
    "# Define the training inputs\n",
    "predict_input_fn = tf.estimator.inputs.numpy_input_fn(\n",
    "    x=x,\n",
    "    num_epochs=1,\n",
    "    shuffle=False)\n",
    "\n",
    "predictions = classifier.predict(input_fn=predict_input_fn)\n",
    "\n",
    "for pred_dict, expec in zip(predictions, expected):\n",
    "    class_id = pred_dict['class_ids'][0]\n",
    "    probability = pred_dict['probabilities'][class_id]\n",
    "\n",
    "    print('\\nPrediction is \"{}\" (certainity {:.1f}%), expected \"{}\"'.format(class_id, 100 * probability, expec))\n",
    "    \n"
   ]
  },
  {
   "cell_type": "code",
   "execution_count": 7,
   "metadata": {},
   "outputs": [
    {
     "name": "stdout",
     "output_type": "stream",
     "text": [
      "INFO:tensorflow:Calling model_fn.\n",
      "INFO:tensorflow:Done calling model_fn.\n",
      "INFO:tensorflow:Signatures INCLUDED in export for Regress: None\n",
      "INFO:tensorflow:Signatures INCLUDED in export for Predict: ['predict']\n",
      "INFO:tensorflow:Signatures INCLUDED in export for Classify: ['serving_default', 'classification']\n",
      "INFO:tensorflow:Restoring parameters from C:\\Users\\_domine3\\AppData\\Local\\Temp\\tmp388xdcy3\\model.ckpt-2000\n",
      "INFO:tensorflow:Assets added to graph.\n",
      "INFO:tensorflow:No assets to write.\n",
      "INFO:tensorflow:SavedModel written to: b\"stored_model\\\\temp-b'1528132320'\\\\saved_model.pbtxt\"\n"
     ]
    },
    {
     "data": {
      "text/plain": [
       "b'stored_model\\\\1528132320'"
      ]
     },
     "execution_count": 7,
     "metadata": {},
     "output_type": "execute_result"
    }
   ],
   "source": [
    "# Save the model for future usage\n",
    "def serving_input_receiver_fn():\n",
    "    serialized_tf_example = tf.placeholder(dtype=tf.string, shape=[None], name='input_tensors')\n",
    "    receiver_tensors      = {'predictor_inputs': serialized_tf_example}\n",
    "    feature_spec          = {'SepalLength': tf.FixedLenFeature([25],tf.float32),\n",
    "                            'SepalWidth': tf.FixedLenFeature([25],tf.float32),\n",
    "                            'PetalLength': tf.FixedLenFeature([25],tf.float32),\n",
    "                            'PetalWidth': tf.FixedLenFeature([25],tf.float32)}\n",
    "    features              = tf.parse_example(serialized_tf_example, feature_spec)\n",
    "    return tf.estimator.export.ServingInputReceiver(features, receiver_tensors)\n",
    "\n",
    "\n",
    "classifier.export_savedmodel(export_dir_base=\"stored_model\", serving_input_receiver_fn  = serving_input_receiver_fn,as_text=True)\n",
    "\n"
   ]
  },
  {
   "cell_type": "code",
   "execution_count": null,
   "metadata": {},
   "outputs": [],
   "source": []
  }
 ],
 "metadata": {
  "kernelspec": {
   "display_name": "Python 3",
   "language": "python",
   "name": "python3"
  },
  "language_info": {
   "codemirror_mode": {
    "name": "ipython",
    "version": 3
   },
   "file_extension": ".py",
   "mimetype": "text/x-python",
   "name": "python",
   "nbconvert_exporter": "python",
   "pygments_lexer": "ipython3",
   "version": "3.5.5"
  }
 },
 "nbformat": 4,
 "nbformat_minor": 2
}
